{
  "nbformat": 4,
  "nbformat_minor": 0,
  "metadata": {
    "colab": {
      "name": "Programming & Spark Assignment.ipynb",
      "provenance": []
    },
    "kernelspec": {
      "name": "python3",
      "display_name": "Python 3"
    }
  },
  "cells": [
    {
      "cell_type": "markdown",
      "metadata": {
        "id": "Aorp-IdIwLA9"
      },
      "source": [
        "Starting with Creating Random Data for 6 Students. and Saving it in a csv File"
      ]
    },
    {
      "cell_type": "code",
      "metadata": {
        "id": "59sghlQiuZeN"
      },
      "source": [
        "import csv\r\n",
        "import random\r\n",
        "data = []  \r\n",
        "header = [\"Student_ID\",\"Subject\",\"Marks\"]\r\n",
        "student_id = [1,2,3,4,5,6]\r\n",
        "subject = [\"p\",\"c\",\"m\",\"b\"]\r\n",
        "data.append(header)\r\n",
        "for std in student_id:\r\n",
        "  for sub in subject:\r\n",
        "    new_row=[std,sub,random.randint(0,100)]\r\n",
        "    data.append(new_row)\r\n",
        "            \r\n",
        "with open(\"Random.csv\", \"w+\") as Ran_file:\r\n",
        "    writer = csv.writer(Ran_file, delimiter=\",\")\r\n",
        "    for new_row in data:\r\n",
        "        writer.writerow(new_row)"
      ],
      "execution_count": 2,
      "outputs": []
    },
    {
      "cell_type": "markdown",
      "metadata": {
        "id": "ajYO29MdwW4r"
      },
      "source": [
        "Installing required Java, Apache Spark, Hadoop"
      ]
    },
    {
      "cell_type": "code",
      "metadata": {
        "id": "VDyCRpO4ubpT"
      },
      "source": [
        "!apt-get install openjdk-8-jdk-headless -qq > /dev/null\r\n",
        "!wget -q https://www-us.apache.org/dist/spark/spark-3.0.1/spark-3.0.1-bin-hadoop2.7.tgz\r\n",
        "!tar xf spark-3.0.1-bin-hadoop2.7.tgz\r\n",
        "!pip install -q findspark"
      ],
      "execution_count": 3,
      "outputs": []
    },
    {
      "cell_type": "markdown",
      "metadata": {
        "id": "D-QFw7YZweG_"
      },
      "source": [
        "Setting Envionment Variables for Java and Spark"
      ]
    },
    {
      "cell_type": "code",
      "metadata": {
        "id": "jFHa3gUNueP3"
      },
      "source": [
        "import os\r\n",
        "os.environ[\"JAVA_HOME\"] = \"/usr/lib/jvm/java-8-openjdk-amd64\"\r\n",
        "os.environ[\"SPARK_HOME\"] = \"/content/spark-3.0.1-bin-hadoop2.7\""
      ],
      "execution_count": 4,
      "outputs": []
    },
    {
      "cell_type": "markdown",
      "metadata": {
        "id": "PUqmrsLcwh_A"
      },
      "source": [
        "Creating Local Session of Spark"
      ]
    },
    {
      "cell_type": "code",
      "metadata": {
        "id": "7k2wtyQHufPb"
      },
      "source": [
        "import findspark\r\n",
        "findspark.init()\r\n",
        "from pyspark.sql import SparkSession\r\n",
        "spark = SparkSession.builder.master(\"local[*]\").getOrCreate()\r\n",
        "\r\n",
        "dataset = spark.read.csv('Random.csv',inferSchema=True, header =True)"
      ],
      "execution_count": 7,
      "outputs": []
    },
    {
      "cell_type": "markdown",
      "metadata": {
        "id": "-t7nelP4wlTu"
      },
      "source": [
        "Showing Full data from csv file of all 6 students"
      ]
    },
    {
      "cell_type": "code",
      "metadata": {
        "colab": {
          "base_uri": "https://localhost:8080/"
        },
        "id": "L3Lfcf3-vfWB",
        "outputId": "aea017ef-0a7d-4d31-a51c-9edfd48547e6"
      },
      "source": [
        "dataset.show(25)"
      ],
      "execution_count": 17,
      "outputs": [
        {
          "output_type": "stream",
          "text": [
            "+----------+-------+-----+\n",
            "|Student_ID|Subject|Marks|\n",
            "+----------+-------+-----+\n",
            "|         1|      p|    5|\n",
            "|         1|      c|   35|\n",
            "|         1|      m|   24|\n",
            "|         1|      b|   54|\n",
            "|         2|      p|   36|\n",
            "|         2|      c|   28|\n",
            "|         2|      m|   92|\n",
            "|         2|      b|   95|\n",
            "|         3|      p|   37|\n",
            "|         3|      c|   34|\n",
            "|         3|      m|   35|\n",
            "|         3|      b|   11|\n",
            "|         4|      p|   84|\n",
            "|         4|      c|    8|\n",
            "|         4|      m|   20|\n",
            "|         4|      b|   45|\n",
            "|         5|      p|   93|\n",
            "|         5|      c|    2|\n",
            "|         5|      m|   16|\n",
            "|         5|      b|   22|\n",
            "|         6|      p|    6|\n",
            "|         6|      c|   80|\n",
            "|         6|      m|   49|\n",
            "|         6|      b|   75|\n",
            "+----------+-------+-----+\n",
            "\n"
          ],
          "name": "stdout"
        }
      ]
    },
    {
      "cell_type": "markdown",
      "metadata": {
        "id": "9AS0QQXHwqYK"
      },
      "source": [
        "Importing requiered liberaries for achieving our results"
      ]
    },
    {
      "cell_type": "code",
      "metadata": {
        "id": "t0eSfnB3ulQY"
      },
      "source": [
        "from pyspark.sql.window import Window\r\n",
        "from pyspark.sql.functions import rank, col, avg, max, min, sum, row_number"
      ],
      "execution_count": 8,
      "outputs": []
    },
    {
      "cell_type": "markdown",
      "metadata": {
        "id": "FQMj0MoiwzUf"
      },
      "source": [
        "**#1> Query to Rank students by total marks**"
      ]
    },
    {
      "cell_type": "code",
      "metadata": {
        "colab": {
          "base_uri": "https://localhost:8080/"
        },
        "id": "gGlkEM1rumnw",
        "outputId": "5a7441f3-2ecb-4b9e-d130-70aae3a9900d"
      },
      "source": [
        "windowThree  = Window.partitionBy(\"Student_ID\").orderBy('Subject')\r\n",
        "dataset.withColumn(\"row\",row_number().over(windowThree)) \\\r\n",
        "  .withColumn(\"Total\", sum(col(\"Marks\")).over(windowThree)) \\\r\n",
        "  .where(col(\"row\")==4).select(\"Student_ID\",\"Total\") \\\r\n",
        "  .orderBy(\"Total\", ascending=False) \\\r\n",
        "  .show()"
      ],
      "execution_count": 9,
      "outputs": [
        {
          "output_type": "stream",
          "text": [
            "+----------+-----+\n",
            "|Student_ID|Total|\n",
            "+----------+-----+\n",
            "|         2|  251|\n",
            "|         6|  210|\n",
            "|         4|  157|\n",
            "|         5|  133|\n",
            "|         1|  118|\n",
            "|         3|  117|\n",
            "+----------+-----+\n",
            "\n"
          ],
          "name": "stdout"
        }
      ]
    },
    {
      "cell_type": "markdown",
      "metadata": {
        "id": "dpsebHGBw4lZ"
      },
      "source": [
        "**#2> Query to find top three highest scorers for each subject**"
      ]
    },
    {
      "cell_type": "code",
      "metadata": {
        "colab": {
          "base_uri": "https://localhost:8080/"
        },
        "id": "X72_WWYguoHq",
        "outputId": "01d835da-4d0a-4564-9f25-4d2004998e63"
      },
      "source": [
        "window = Window.partitionBy(dataset['Subject']).orderBy(dataset['Marks'].desc())\r\n",
        "dataset.select('*', rank().over(window).alias('Rank')).filter(col('Rank') <= 3).show() "
      ],
      "execution_count": 10,
      "outputs": [
        {
          "output_type": "stream",
          "text": [
            "+----------+-------+-----+----+\n",
            "|Student_ID|Subject|Marks|Rank|\n",
            "+----------+-------+-----+----+\n",
            "|         2|      m|   92|   1|\n",
            "|         6|      m|   49|   2|\n",
            "|         3|      m|   35|   3|\n",
            "|         5|      p|   93|   1|\n",
            "|         4|      p|   84|   2|\n",
            "|         3|      p|   37|   3|\n",
            "|         6|      c|   80|   1|\n",
            "|         1|      c|   35|   2|\n",
            "|         3|      c|   34|   3|\n",
            "|         2|      b|   95|   1|\n",
            "|         6|      b|   75|   2|\n",
            "|         1|      b|   54|   3|\n",
            "+----------+-------+-----+----+\n",
            "\n"
          ],
          "name": "stdout"
        }
      ]
    },
    {
      "cell_type": "markdown",
      "metadata": {
        "id": "dR2kCD9kw6iY"
      },
      "source": [
        "**#3> Find min ,max and mean scores for each subjects**"
      ]
    },
    {
      "cell_type": "code",
      "metadata": {
        "colab": {
          "base_uri": "https://localhost:8080/"
        },
        "id": "CWGFANTduqS4",
        "outputId": "8374cf02-fb31-4128-943d-2fddceaaa7bc"
      },
      "source": [
        "windowThree  = Window.partitionBy(\"Subject\").orderBy('Subject')\r\n",
        "dataset.withColumn(\"row\",row_number().over(windowThree)) \\\r\n",
        "  .withColumn(\"Mean\", avg(col(\"Marks\")).over(windowThree)) \\\r\n",
        "  .withColumn(\"Minimum\", min(col(\"Marks\")).over(windowThree)) \\\r\n",
        "  .withColumn(\"Maximum\", max(col(\"Marks\")).over(windowThree)) \\\r\n",
        "  .where(col(\"row\")==1).select(\"Subject\",\"Mean\",\"Minimum\",\"Maximum\") \\\r\n",
        "  .show()"
      ],
      "execution_count": 11,
      "outputs": [
        {
          "output_type": "stream",
          "text": [
            "+-------+------------------+-------+-------+\n",
            "|Subject|              Mean|Minimum|Maximum|\n",
            "+-------+------------------+-------+-------+\n",
            "|      m|39.333333333333336|     16|     92|\n",
            "|      p|              43.5|      5|     93|\n",
            "|      c|31.166666666666668|      2|     80|\n",
            "|      b|50.333333333333336|     11|     95|\n",
            "+-------+------------------+-------+-------+\n",
            "\n"
          ],
          "name": "stdout"
        }
      ]
    }
  ]
}